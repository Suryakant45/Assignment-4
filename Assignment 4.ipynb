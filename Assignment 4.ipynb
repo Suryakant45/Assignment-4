{
 "cells": [
  {
   "cell_type": "markdown",
   "id": "3204b409-1b46-436c-a758-9899a48f0bfa",
   "metadata": {},
   "source": [
    "Q-1] What exactly is [ ]?"
   ]
  },
  {
   "cell_type": "markdown",
   "id": "33477282-9590-468d-a3b9-562539420614",
   "metadata": {},
   "source": [
    "Ans:-The empty list value, which is a list value that contains no items. This is similar to how  ' ' is the empty string value."
   ]
  },
  {
   "cell_type": "markdown",
   "id": "f8557965-3105-4090-ad45-4016ab46ca41",
   "metadata": {},
   "source": [
    "Q-2] In a list of values stored in a variable called spam, how would you assign the value 'hello' as the third value? (Assume [2,4,6,810] are in spam)      "
   ]
  },
  {
   "cell_type": "markdown",
   "id": "f802e969-7fd9-4cdc-a868-b1606b141f68",
   "metadata": {},
   "source": [
    "Ans:- spam[2] = 'hello' (Notice that the third value in a list is at index 2 because the first index is 0.)"
   ]
  },
  {
   "cell_type": "markdown",
   "id": "aa739df6-6591-40c1-9fe3-12de56978d66",
   "metadata": {},
   "source": [
    "Let's pretend the spam includes the list ['a','b','c','d'] for the next three queries."
   ]
  },
  {
   "cell_type": "markdown",
   "id": "f660830d-cce9-433a-9870-760060f8bb4a",
   "metadata": {},
   "source": [
    "Q-3] What is the value of spam[int(int('3'*2)/11)]?"
   ]
  },
  {
   "cell_type": "markdown",
   "id": "4a3a2a32-1583-4f39-9e76-badcbaa335a1",
   "metadata": {},
   "source": [
    "Ans:- 'd' (Note that '3'*2 is the string '33', which is passed to int() before being divided by 11. This eventually evaluates to 3. Expressions can be used wherever values are used.)"
   ]
  },
  {
   "cell_type": "markdown",
   "id": "9c9d8d6f-6aaf-4236-bdf4-d71f85833774",
   "metadata": {},
   "source": [
    "Q-4] What is the value of spam[-1] ?"
   ]
  },
  {
   "cell_type": "markdown",
   "id": "37e67a3e-d9c2-466c-bbd1-6cc09752a21b",
   "metadata": {},
   "source": [
    "Ans:- 'd' (Negative indexes count from end)"
   ]
  },
  {
   "cell_type": "markdown",
   "id": "6713c9f0-9650-4756-a8b2-f70ef1f0a9f2",
   "metadata": {},
   "source": [
    "Q-5] What is the value of spam[:2] ?"
   ]
  },
  {
   "cell_type": "markdown",
   "id": "f8c8b72b-c0c0-4164-9c45-4d912a2440c6",
   "metadata": {},
   "source": [
    "Ans:- ['a','b']"
   ]
  },
  {
   "cell_type": "code",
   "execution_count": 1,
   "id": "2a35f49f-86a7-4723-bf10-df6c9422c63d",
   "metadata": {},
   "outputs": [],
   "source": [
    "# let's pretend bacon has the list [3.14,'cat',11,'cat',True] for the next three questions."
   ]
  },
  {
   "cell_type": "markdown",
   "id": "24a61aee-a706-4216-a12e-19ee546fe30e",
   "metadata": {},
   "source": [
    "Q-6] What is the value of bacon.index('cat')?"
   ]
  },
  {
   "cell_type": "markdown",
   "id": "c111c42b-bfe1-479f-8f95-ed666227335f",
   "metadata": {},
   "source": [
    "Ans:- 1"
   ]
  },
  {
   "cell_type": "markdown",
   "id": "8d706cb9-f643-49a0-823e-a275706ebcd8",
   "metadata": {},
   "source": [
    "Q-7] How does bacon.append(99) change the look of the list value in bacon?"
   ]
  },
  {
   "cell_type": "markdown",
   "id": "4995cbc0-529c-494f-89d3-ec1b9449e30c",
   "metadata": {},
   "source": [
    "Ans:- [3.14,'cat',11,'cat',True,99]"
   ]
  },
  {
   "cell_type": "markdown",
   "id": "506041c9-5ed7-49ed-bd45-a98af8eafbd6",
   "metadata": {},
   "source": [
    "Q-8] How does bacon.remove('cat') change the look of the list in bacon?"
   ]
  },
  {
   "cell_type": "markdown",
   "id": "0bb87683-e2cf-4a3e-ae2e-2b3abcf56b6e",
   "metadata": {},
   "source": [
    "Ans:- [3.14,11,'cat',True]"
   ]
  },
  {
   "cell_type": "markdown",
   "id": "a4005e15-47ec-4d16-991f-b506de7283c7",
   "metadata": {},
   "source": [
    "Q-9] What are the list concatenation and list replication operators?"
   ]
  },
  {
   "cell_type": "markdown",
   "id": "5d2e5af4-a838-4234-b400-3bb530728864",
   "metadata": {},
   "source": [
    "Ans:- The operator for list concatenation is +, while the operator for replication is *. (This is the same as for strings.)"
   ]
  },
  {
   "cell_type": "markdown",
   "id": "8977b194-ed4a-4983-8dff-10c8c47b7583",
   "metadata": {},
   "source": [
    "Q-10] What is difference between the list methods append() and insert()?"
   ]
  },
  {
   "cell_type": "markdown",
   "id": "5b7881e7-b61d-4dae-90ba-d6a78dd70deb",
   "metadata": {},
   "source": [
    "Ans:- While append() will add values only to the end of a list, insert() can add them anywhere in the list."
   ]
  },
  {
   "cell_type": "markdown",
   "id": "641bedad-4558-49e7-bb69-9eab6e46fc6b",
   "metadata": {},
   "source": [
    "Q-11] What are the two methods for removing items from a list?"
   ]
  },
  {
   "cell_type": "markdown",
   "id": "cc64a238-6aeb-4fd3-8b62-461a463026bc",
   "metadata": {},
   "source": [
    "Ans:- The del statement and the remove() list method are two ways to remove values from a list."
   ]
  },
  {
   "cell_type": "markdown",
   "id": "42cd345a-0548-47ea-a413-f7c48ad44f9e",
   "metadata": {},
   "source": [
    "Q-12] Describe how list values and string values are identical."
   ]
  },
  {
   "cell_type": "markdown",
   "id": "ae3462ef-5be7-4341-a2cd-5d7c695b9d32",
   "metadata": {},
   "source": [
    "Ans :-Both lists and strings can be passed to len(), have indexes and slices, be used in for loops, be concatenated or replicated, and be used with the in and not in operators."
   ]
  },
  {
   "cell_type": "markdown",
   "id": "e2b1a984-8d4f-436b-8e40-0fcd1ac39783",
   "metadata": {},
   "source": [
    "Q-13] What's the difference between tuples and lists?"
   ]
  },
  {
   "cell_type": "markdown",
   "id": "08f7b1ec-43cc-4679-9f25-221a1f99057e",
   "metadata": {},
   "source": [
    "Ans:- Lists are mutable; they can have values added, removed, or changed. Tuples are immutable; they cannot changed at all. Also tuples are written using parantheses, (and), while lists use the square brackets, [ and ]."
   ]
  },
  {
   "cell_type": "markdown",
   "id": "a1d5b5c9-41bc-4704-b9c1-4a4bafb80162",
   "metadata": {},
   "source": [
    "Q-14] How do you type a tuple value that only contains the integer 42?"
   ]
  },
  {
   "cell_type": "markdown",
   "id": "2384d1ef-6f03-4d69-ad82-5a7bf935e697",
   "metadata": {},
   "source": [
    "Ans:-  (42,) (The trailing comma is mandatory.)"
   ]
  },
  {
   "cell_type": "markdown",
   "id": "47e69482-7fbb-4628-b578-817aa463cab4",
   "metadata": {},
   "source": [
    "Q-15] How do you get a list value's tuple form? How do you get a tuple value's list form?"
   ]
  },
  {
   "cell_type": "markdown",
   "id": "d10ac2e2-5110-4723-baf7-a06737985372",
   "metadata": {},
   "source": [
    "Ans:- The tuple() and list() functions, respectively"
   ]
  },
  {
   "cell_type": "markdown",
   "id": "c3e67a46-08ae-49a1-8d88-9f8542bebd83",
   "metadata": {},
   "source": [
    "Q-16] Variables that 'contain' list values are not necessarily lists themselves. Instead, what do they contain?"
   ]
  },
  {
   "cell_type": "markdown",
   "id": "81028f94-fb6e-4a4f-a5f6-5393294e2614",
   "metadata": {},
   "source": [
    "Ans:- They contain references to list values."
   ]
  },
  {
   "cell_type": "markdown",
   "id": "5eb22345-9877-4729-b62b-0af78376370a",
   "metadata": {},
   "source": [
    "Q-17] How do you distinguish between copy.copy() and copy.deepcopy()?"
   ]
  },
  {
   "cell_type": "markdown",
   "id": "a9de7e18-9af2-40e8-9c1c-e645a35dc6db",
   "metadata": {},
   "source": [
    "Ans:- The copy.copy() function will do a shollow copy of a list, while the copy.deepcopy() function will do a deep copy of a list. That is, only copy.deepcopy() will duplicate any lists inside the list."
   ]
  },
  {
   "cell_type": "code",
   "execution_count": null,
   "id": "53f2e8ec-6f35-40b6-950b-d40bd207a404",
   "metadata": {},
   "outputs": [],
   "source": []
  }
 ],
 "metadata": {
  "kernelspec": {
   "display_name": "Python 3 (ipykernel)",
   "language": "python",
   "name": "python3"
  },
  "language_info": {
   "codemirror_mode": {
    "name": "ipython",
    "version": 3
   },
   "file_extension": ".py",
   "mimetype": "text/x-python",
   "name": "python",
   "nbconvert_exporter": "python",
   "pygments_lexer": "ipython3",
   "version": "3.10.6"
  }
 },
 "nbformat": 4,
 "nbformat_minor": 5
}
